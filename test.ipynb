{
 "cells": [
  {
   "cell_type": "code",
   "execution_count": 1,
   "metadata": {},
   "outputs": [
    {
     "name": "stdout",
     "output_type": "stream",
     "text": [
      "hello\n"
     ]
    }
   ],
   "source": [
    "import undetected_chromedriver as uc\n",
    "from selenium.webdriver.common.by import By\n",
    "from datetime import datetime\n",
    "\n",
    "driver = uc.Chrome(headless=False, use_subprocess=False)\n"
   ]
  },
  {
   "cell_type": "code",
   "execution_count": 58,
   "metadata": {},
   "outputs": [],
   "source": [
    "# get all hrefs that contain https://lottery.broadwaydirect.com/show/\n",
    "def get_all_show_urls(driver):\n",
    "    driver.get('https://lottery.broadwaydirect.com/')\n",
    "    shows = driver.find_elements(By.XPATH, '//a[contains(@href, \"https://lottery.broadwaydirect.com/show/\")]')\n",
    "    show_hrefs = list(set([show.get_attribute('href') for show in shows]))\n",
    "    return show_hrefs"
   ]
  },
  {
   "cell_type": "code",
   "execution_count": 66,
   "metadata": {},
   "outputs": [],
   "source": [
    "def get_show_entries(driver):\n",
    "    table = driver.find_element(By.TAG_NAME, \"table\")\n",
    "    trs = table.find_elements(By.TAG_NAME, \"tr\")\n",
    "    target_hrefs = []\n",
    "    for tr in trs:\n",
    "        show_href = None\n",
    "        # get element inside tr that contains \"time\" in class\n",
    "        tds = tr.find_elements(By.TAG_NAME, \"td\")\n",
    "        for td in tds:\n",
    "            if \"time\" in td.get_attribute(\"class\"):\n",
    "                show_time = td.text.strip()\n",
    "                datetime_object = datetime.strptime(show_time, '%m/%d/%y %I:%M %p')\n",
    "                day_of_week = datetime_object.strftime('%A')\n",
    "                \n",
    "            # check for href in td\n",
    "            if td.find_elements(By.TAG_NAME, \"a\"):\n",
    "                show_href = td.find_element(By.TAG_NAME, \"a\").get_attribute(\"href\")\n",
    "        \n",
    "        if show_href is None or 'enter-lottery' not in show_href:\n",
    "            continue\n",
    "        \n",
    "        # filter logic if the showtime isn't appropriate\n",
    "        if day_of_week in [\"Sunday\", \"Monday\", \"Tuesday\", \"Wednesday\", \"Thursday\", \"Friday\", \"Saturday\"]:\n",
    "            target_hrefs.append(show_href)\n",
    "\n",
    "    return target_hrefs"
   ]
  },
  {
   "cell_type": "code",
   "execution_count": 60,
   "metadata": {},
   "outputs": [],
   "source": [
    "show_hrefs = get_all_show_urls(driver)"
   ]
  },
  {
   "cell_type": "code",
   "execution_count": 62,
   "metadata": {},
   "outputs": [],
   "source": [
    "driver.get(show_hrefs[0])"
   ]
  },
  {
   "cell_type": "code",
   "execution_count": 67,
   "metadata": {},
   "outputs": [],
   "source": [
    "target_hrefs = get_show_entries(driver)"
   ]
  },
  {
   "cell_type": "code",
   "execution_count": 69,
   "metadata": {},
   "outputs": [],
   "source": [
    "driver.get(target_hrefs[0])"
   ]
  },
  {
   "cell_type": "code",
   "execution_count": null,
   "metadata": {},
   "outputs": [],
   "source": [
    "def fill_entry(driver):\n",
    "    "
   ]
  },
  {
   "cell_type": "code",
   "execution_count": 85,
   "metadata": {},
   "outputs": [],
   "source": [
    "# dlslot_name_first\n",
    "input_first_name = driver.find_element(By.ID, \"dlslot_name_first\")\n",
    "\n",
    "# dlslot_name_last\n",
    "input_last_name = driver.find_element(By.ID, \"dlslot_name_last\")\n",
    "\n",
    "# dlslot_ticket_qty\n",
    "select_ticket_qty = driver.find_element(By.ID, \"dlslot_ticket_qty\")\n",
    "\n",
    "# dlslot_email\n",
    "input_email = driver.find_element(By.ID, \"dlslot_email\")\n",
    "\n",
    "# dlslot_dob_month\n",
    "input_dob_month = driver.find_element(By.ID, \"dlslot_dob_month\")\n",
    "# dlslot_dob_day\n",
    "input_dob_day = driver.find_element(By.ID, \"dlslot_dob_day\")\n",
    "# dlslot_dob_year\n",
    "input_dob_year = driver.find_element(By.ID, \"dlslot_dob_year\")\n",
    "\n",
    "# dlslot_zip\n",
    "input_zip = driver.find_element(By.ID, \"dlslot_zip\")\n",
    "\n",
    "# dlslot_country\n",
    "select_country = driver.find_element(By.ID, \"dlslot_country\")\n",
    "\n",
    "# dlslot_agree\n",
    "checkbox_agree = driver.find_element(By.ID, \"dlslot_agree\")"
   ]
  },
  {
   "cell_type": "code",
   "execution_count": 86,
   "metadata": {},
   "outputs": [],
   "source": [
    "input_first_name.send_keys(\"John\")\n",
    "input_last_name.send_keys(\"Doe\")\n",
    "select_ticket_qty.send_keys(\"2\")\n",
    "input_email.send_keys(\"john.doe@gmail.com\")\n",
    "input_dob_month.send_keys(\"01\")\n",
    "input_dob_day.send_keys(\"01\")\n",
    "input_dob_year.send_keys(\"1990\")\n",
    "input_zip.send_keys(\"10001\")\n",
    "select_country.send_keys(\"USA\")"
   ]
  },
  {
   "cell_type": "code",
   "execution_count": null,
   "metadata": {},
   "outputs": [
    {
     "ename": "AttributeError",
     "evalue": "type object 'By' has no attribute 'LabelEntry'",
     "output_type": "error",
     "traceback": [
      "\u001b[1;31m---------------------------------------------------------------------------\u001b[0m",
      "\u001b[1;31mAttributeError\u001b[0m                            Traceback (most recent call last)",
      "Cell \u001b[1;32mIn[88], line 2\u001b[0m\n\u001b[0;32m      1\u001b[0m \u001b[38;5;66;03m# find the element ::after and click on it\u001b[39;00m\n\u001b[1;32m----> 2\u001b[0m checkbox_agree\u001b[38;5;241m.\u001b[39mfind_element(\u001b[43mBy\u001b[49m\u001b[38;5;241;43m.\u001b[39;49m\u001b[43mLabelEntry\u001b[49m, \u001b[38;5;124m\"\u001b[39m\u001b[38;5;124m::after\u001b[39m\u001b[38;5;124m\"\u001b[39m)\u001b[38;5;241m.\u001b[39mclick()\n",
      "\u001b[1;31mAttributeError\u001b[0m: type object 'By' has no attribute 'LabelEntry'"
     ]
    }
   ],
   "source": [
    "# find the element ::after and click on it\n",
    "checkbox_agree.find_element(By.LABEL, \"::after\").click()"
   ]
  },
  {
   "cell_type": "code",
   "execution_count": null,
   "metadata": {},
   "outputs": [],
   "source": []
  }
 ],
 "metadata": {
  "kernelspec": {
   "display_name": ".venv",
   "language": "python",
   "name": "python3"
  },
  "language_info": {
   "codemirror_mode": {
    "name": "ipython",
    "version": 3
   },
   "file_extension": ".py",
   "mimetype": "text/x-python",
   "name": "python",
   "nbconvert_exporter": "python",
   "pygments_lexer": "ipython3",
   "version": "3.9.17"
  }
 },
 "nbformat": 4,
 "nbformat_minor": 2
}
