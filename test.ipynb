{
 "cells": [
  {
   "cell_type": "code",
   "execution_count": 1,
   "metadata": {},
   "outputs": [],
   "source": [
    "import undetected_chromedriver as uc\n",
    "# from selenium_recaptcha_solver import RecaptchaSolver\n",
    "from selenium.webdriver.common.by import By\n",
    "from datetime import datetime\n",
    "from selenium.webdriver.chrome.options import Options\n",
    "\n",
    "import dataclasses\n",
    "from typing import List\n",
    "import json\n",
    "\n",
    "# test_ua = 'Mozilla/5.0 (Windows NT 10.0; Win64; x64) AppleWebKit/537.36 (KHTML, like Gecko) Chrome/58.0.3029.110 Safari/537.36'\n",
    "\n",
    "options = Options()\n",
    "\n",
    "# options.add_argument(\"--headless\")  # Remove this if you want to see the browser (Headless makes the chromedriver not have a GUI)\n",
    "# options.add_argument(\"--window-size=1920,1080\")\n",
    "# options.add_argument(f'--user-agent={test_ua}')\n",
    "\n",
    "options.add_argument('--no-sandbox')\n",
    "options.add_argument(\"--disable-extensions\")\n",
    "\n",
    "driver = uc.Chrome(headless=False, use_subprocess=False, options=options)\n",
    "\n",
    "# solver = RecaptchaSolver(driver=driver)"
   ]
  },
  {
   "cell_type": "code",
   "execution_count": 2,
   "metadata": {},
   "outputs": [],
   "source": [
    "@dataclasses.dataclass\n",
    "class Show:\n",
    "    name: str\n",
    "    href: str\n",
    "    time: datetime\n",
    "    day_of_week: str\n",
    "    \n",
    "# get all hrefs that contain https://lottery.broadwaydirect.com/show/\n",
    "def get_all_show_urls(driver):\n",
    "    driver.get('https://lottery.broadwaydirect.com/')\n",
    "    shows = driver.find_elements(By.XPATH, '//a[contains(@href, \"https://lottery.broadwaydirect.com/show/\")]')\n",
    "    show_hrefs = list(set([show.get_attribute('href') for show in shows]))\n",
    "    return show_hrefs"
   ]
  },
  {
   "cell_type": "code",
   "execution_count": 3,
   "metadata": {},
   "outputs": [],
   "source": [
    "def get_show_entries(driver):\n",
    "    table = driver.find_element(By.TAG_NAME, \"table\")\n",
    "    trs = table.find_elements(By.TAG_NAME, \"tr\")\n",
    "    cur_url = driver.current_url\n",
    "    cur_show = cur_url.split('/show/')[-1].strip('/')\n",
    "    all_shows = []\n",
    "    for tr in trs:\n",
    "        show_href = None\n",
    "        # get element inside tr that contains \"time\" in class\n",
    "        tds = tr.find_elements(By.TAG_NAME, \"td\")\n",
    "        for td in tds:\n",
    "            if \"time\" in td.get_attribute(\"class\"):\n",
    "                show_time = td.text.strip()\n",
    "                datetime_object = datetime.strptime(show_time, '%m/%d/%y %I:%M %p')\n",
    "                day_of_week = datetime_object.strftime('%A')\n",
    "                \n",
    "            # check for href in td\n",
    "            if td.find_elements(By.TAG_NAME, \"a\"):\n",
    "                show_href = td.find_element(By.TAG_NAME, \"a\").get_attribute(\"href\")\n",
    "        \n",
    "        if show_href is None or 'enter-lottery' not in show_href:\n",
    "            continue\n",
    "    \n",
    "        show = Show(cur_show, show_href, datetime_object, day_of_week)\n",
    "        all_shows.append(show)\n",
    "    return all_shows"
   ]
  },
  {
   "cell_type": "code",
   "execution_count": 18,
   "metadata": {},
   "outputs": [],
   "source": [
    "import time\n",
    "\n",
    "\n",
    "def fill_entry(driver):\n",
    "    # dlslot_name_first\n",
    "    input_first_name = driver.find_element(By.ID, 'dlslot_name_first')\n",
    "    # dlslot_name_last\n",
    "    input_last_name = driver.find_element(By.ID, 'dlslot_name_last')\n",
    "    # dlslot_ticket_qty\n",
    "    select_ticket_qty = driver.find_element(By.ID, 'dlslot_ticket_qty')\n",
    "    # dlslot_email\n",
    "    input_email = driver.find_element(By.ID, 'dlslot_email')\n",
    "    # dlslot_dob_month\n",
    "    input_dob_month = driver.find_element(By.ID, 'dlslot_dob_month')\n",
    "    # dlslot_dob_day\n",
    "    input_dob_day = driver.find_element(By.ID, 'dlslot_dob_day')\n",
    "    # dlslot_dob_year\n",
    "    input_dob_year = driver.find_element(By.ID, 'dlslot_dob_year')\n",
    "    # dlslot_zip\n",
    "    input_zip = driver.find_element(By.ID, 'dlslot_zip')\n",
    "    # dlslot_country\n",
    "    select_country = driver.find_element(By.ID, 'dlslot_country')\n",
    "    # <label for=\"dslot_agree\">\n",
    "    checkbox_agree = driver.find_element(By.XPATH, '//label[@for=\"dlslot_agree\"]')\n",
    "    # btn btn-primary\n",
    "    submit_button  = driver.find_element(By.CLASS_NAME, 'btn-primary')\n",
    "\n",
    "    input_first_name.send_keys(\"Jared\")\n",
    "    input_last_name.send_keys(\"Ucherek\")\n",
    "    select_ticket_qty.send_keys(\"2\")\n",
    "    input_email.send_keys(\"jared.ucherek@gmail.com\")\n",
    "    input_dob_month.send_keys(\"09\")\n",
    "    input_dob_day.send_keys(\"17\")\n",
    "    input_dob_year.send_keys(\"1996\")\n",
    "    input_zip.send_keys(\"11211\")\n",
    "    select_country.send_keys(\"USA\")\n",
    "    # scroll down all the way\n",
    "    driver.execute_script(\"window.scrollTo(0, document.body.scrollHeight);\")\n",
    "    time.sleep(1)\n",
    "    checkbox_agree.click()\n",
    "    submit_button.click()\n",
    "    \n",
    "def solve_capcha(driver):\n",
    "    pass"
   ]
  },
  {
   "cell_type": "code",
   "execution_count": 14,
   "metadata": {},
   "outputs": [
    {
     "data": {
      "text/plain": [
       "'[\"aladdin\", \"the-lion-king\", \"redwood-ny\", \"dbh-nyc\", \"mj-ny\", \"six-ny\", \"wicked\"]'"
      ]
     },
     "execution_count": 14,
     "metadata": {},
     "output_type": "execute_result"
    }
   ],
   "source": [
    "show_hrefs = get_all_show_urls(driver)\n",
    "available_shows = [x.split('/show/')[-1].strip('/') for x in show_hrefs]\n",
    "json.dumps(available_shows)"
   ]
  },
  {
   "cell_type": "code",
   "execution_count": 6,
   "metadata": {},
   "outputs": [],
   "source": [
    "all_shows: List[Show] = []\n",
    "\n",
    "for show_href in show_hrefs:\n",
    "    driver.get(show_href)\n",
    "    cur_shows = get_show_entries(driver)\n",
    "    all_shows.extend(cur_shows)"
   ]
  },
  {
   "cell_type": "code",
   "execution_count": 19,
   "metadata": {},
   "outputs": [],
   "source": [
    "config = json.load(open('config.json'))"
   ]
  },
  {
   "cell_type": "code",
   "execution_count": 20,
   "metadata": {},
   "outputs": [
    {
     "name": "stdout",
     "output_type": "stream",
     "text": [
      "Processing Jared\n",
      "Entered six-ny at 2025-02-03 19:00:00 on Monday\n",
      "Entered wicked at 2025-02-02 19:00:00 on Sunday\n"
     ]
    }
   ],
   "source": [
    "for email, options in config.items():\n",
    "    print(f\"Processing {options['first_name']}\")\n",
    "    \n",
    "    options['shows'] = set(options['shows'])\n",
    "    options['show_hours'] = set(options['show_hours'])\n",
    "    options['show_days'] = set(options['show_days'])\n",
    "    \n",
    "    for show in all_shows:\n",
    "        if show.name not in options['shows']:\n",
    "            print(f\"Skipping {show.name}\")\n",
    "            continue\n",
    "        if show.time.hour not in options['show_hours'] or show.day_of_week not in options['show_days']:\n",
    "            print(f\"Skipping {show.name} at {show.time} on {show.day_of_week}\")\n",
    "            continue\n",
    "        \n",
    "        driver.get(show.href)\n",
    "        fill_entry(driver)\n",
    "        # solve_capcha(driver)\n",
    "        # submit\n",
    "        print(f\"Entered {show.name} at {show.time} on {show.day_of_week}\")\n",
    "        "
   ]
  },
  {
   "cell_type": "code",
   "execution_count": null,
   "metadata": {},
   "outputs": [],
   "source": []
  }
 ],
 "metadata": {
  "kernelspec": {
   "display_name": ".venv",
   "language": "python",
   "name": "python3"
  },
  "language_info": {
   "codemirror_mode": {
    "name": "ipython",
    "version": 3
   },
   "file_extension": ".py",
   "mimetype": "text/x-python",
   "name": "python",
   "nbconvert_exporter": "python",
   "pygments_lexer": "ipython3",
   "version": "3.9.17"
  }
 },
 "nbformat": 4,
 "nbformat_minor": 2
}
